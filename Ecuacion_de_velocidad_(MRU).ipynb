{
  "nbformat": 4,
  "nbformat_minor": 0,
  "metadata": {
    "colab": {
      "provenance": [],
      "toc_visible": true,
      "include_colab_link": true
    },
    "kernelspec": {
      "name": "python3",
      "display_name": "Python 3"
    },
    "language_info": {
      "name": "python"
    }
  },
  "cells": [
    {
      "cell_type": "markdown",
      "metadata": {
        "id": "view-in-github",
        "colab_type": "text"
      },
      "source": [
        "<a href=\"https://colab.research.google.com/github/Jorge-Urzola/Calculando-con-formulas/blob/Velocidad-con-respecto-al-tiempo/Ecuacion_de_velocidad_(MRU).ipynb\" target=\"_parent\"><img src=\"https://colab.research.google.com/assets/colab-badge.svg\" alt=\"Open In Colab\"/></a>"
      ]
    },
    {
      "cell_type": "markdown",
      "source": [
        "#Ecuacion de velocidad con respecto al tiempo (MRU)\n"
      ],
      "metadata": {
        "id": "WScDea0aN2ep"
      }
    },
    {
      "cell_type": "markdown",
      "source": [
        "##Introducuccion\n",
        "El movimiento rectilíneo uniforme describe el recorrido de un cuerpo en línea recta que no acelera, pero tampoco pierde rapidez, es decir, que mantiene una velocidad contante. La velocidad en este movimiento es una medida de q tan rápido se desplaza un objeto y en q dirección.\n",
        "El desarrollo de un codigos para calcular la velocidad de un cuerpo qué se encuentra en movimiento rectilíneo uniforme nace de la necesidad de resolver problemáticas de la vida real, tal como, promediar el tiempo que te tome llegar de un punto a, a un punto b durante un viaje y determinar el tiempo que tomara completar todo el recorrido.\n",
        "##Integrantes\n",
        "David Mosquera, Jorge Urzola Meza, Michael Molina."
      ],
      "metadata": {
        "id": "YF68MjpIrX2N"
      }
    },
    {
      "cell_type": "markdown",
      "source": [
        "#Ecuacion"
      ],
      "metadata": {
        "id": "QITC3SlsrbKA"
      }
    },
    {
      "cell_type": "markdown",
      "source": [
        "##$v(t)=v_0+at$\n",
        "Donde:\n",
        "####$v(t)$ es la velocidad\n",
        "####$v_0$ es velocidad  inicial\n",
        "####$a$ es aceleración\n",
        "####$t$ es tiempo."
      ],
      "metadata": {
        "id": "RtHzywrpr0VI"
      }
    },
    {
      "cell_type": "markdown",
      "source": [
        "#Aspectos teoricos"
      ],
      "metadata": {
        "id": "QSO6_V-armcz"
      }
    },
    {
      "cell_type": "markdown",
      "source": [
        "##Velocidad en función del tiempo $v(t)$:\n",
        "Esta expresión indica que la velocidad de un objeto no es constante, sino que cambia a medida que pasa el tiempo.\n",
        "##Velocidad ($v$)\n",
        "Representa la velocidad del objeto en un instante determinado.\n",
        "##Tiempo ($t$)\n",
        "Representa el tiempo.\n",
        "Al escribir $v(t)$, estamos diciendo que la velocidad es una función del tiempo, es decir, su valor depende de en qué momento estemos midiendo.\n",
        "##Aceleracion ($a$)\n",
        "Representa la aceleración del objeto en un instante determinado.\n",
        "##$at$\n",
        "Indica que la aceleración es una función del tiempo, y su valor dependerá del momento en que la estemos calculando.\n",
        "\n",
        "##¿Por qué es importante $v(t)$?\n",
        "Movimiento variado: En la vida real, los objetos no siempre se mueven con velocidad constante. A veces aceleran, desaceleran o cambian de dirección."
      ],
      "metadata": {
        "id": "MCWgqbYkyZEg"
      }
    },
    {
      "cell_type": "markdown",
      "source": [
        "#Codigo"
      ],
      "metadata": {
        "id": "TL2s3s4WruYc"
      }
    },
    {
      "cell_type": "code",
      "source": [
        "# Se creo las interacciones con el usuario\n",
        "# Se reciaben todas las variables necewsarias\n",
        "vi = float(input(\"Ingrese la velocidad inicial en metros/segundo: \"))\n",
        "a = float(input(\"Ingrese la aceleracion en metros/segundo cuadrado: \"))\n",
        "t = float(input(\"Ingrese el tiempo en segundos: \"))\n",
        "# Definimos la formula de la velocidad y imprimimos alos resultados\n",
        "vt = vi + a*t\n",
        "print(\"La velocidad final es:\", vt, \"m/s\")"
      ],
      "metadata": {
        "id": "q6SQB5V_se-k",
        "colab": {
          "base_uri": "https://localhost:8080/"
        },
        "outputId": "8eb21c58-f8f0-42bd-da8c-a7de6cab60a9"
      },
      "execution_count": 6,
      "outputs": [
        {
          "output_type": "stream",
          "name": "stdout",
          "text": [
            "Ingrese la velocidad inicial en metros/segundo: 0\n",
            "Ingrese la aceleracion en metros/segundo cuadrado: 20\n",
            "Ingrese el tiempo en segundos: 10\n",
            "La velocidad final es: 200.0 m/s\n"
          ]
        }
      ]
    },
    {
      "cell_type": "markdown",
      "source": [
        "#Conclusion"
      ],
      "metadata": {
        "id": "_f8T8F9Vrwts"
      }
    },
    {
      "cell_type": "markdown",
      "source": [
        "Concluir"
      ],
      "metadata": {
        "id": "oYGz9dyQsixi"
      }
    }
  ]
}