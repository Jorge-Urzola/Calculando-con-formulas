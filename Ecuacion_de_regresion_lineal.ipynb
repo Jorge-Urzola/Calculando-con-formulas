{
  "nbformat": 4,
  "nbformat_minor": 0,
  "metadata": {
    "colab": {
      "provenance": [],
      "toc_visible": true,
      "include_colab_link": true
    },
    "kernelspec": {
      "name": "python3",
      "display_name": "Python 3"
    },
    "language_info": {
      "name": "python"
    }
  },
  "cells": [
    {
      "cell_type": "markdown",
      "metadata": {
        "id": "view-in-github",
        "colab_type": "text"
      },
      "source": [
        "<a href=\"https://colab.research.google.com/github/Jorge-Urzola/Calculando-con-formulas/blob/Regresi%C3%B3n-lineal/Ecuacion_de_regresion_lineal.ipynb\" target=\"_parent\"><img src=\"https://colab.research.google.com/assets/colab-badge.svg\" alt=\"Open In Colab\"/></a>"
      ]
    },
    {
      "cell_type": "markdown",
      "source": [
        "#Ecuacion de la regresion lineal\n"
      ],
      "metadata": {
        "id": "z7LwgGZJOqwR"
      }
    },
    {
      "cell_type": "markdown",
      "source": [
        "##Introduccion\n",
        "La regresión lineal es una herramienta poderosa y versátil en la economía de la construcción que permite análisis detallados y predictivos, facilitando la gestión eficiente de recursos y la toma de decisiones basadas en datos.\n",
        "\n",
        "La regresión lineal es una técnica estadística fundamental utilizada para modelar la relación entre una variable dependiente y una o más variables independientes. Este enfoque permite analizar y predecir comportamientos y tendencias dentro de un conjunto de datos, proporcionando una herramienta poderosa para la toma de decisiones informadas en diversas disciplinas, incluyendo la economía, la ingeniería, las ciencias sociales y la investigación de mercado.\n",
        "\n",
        "El modelo de regresión lineal se basa en la suposición de que existe una relación lineal entre las variables. En su forma más simple, se expresa mediante la ecuación:\n",
        "\n",
        "𝑌 = 𝑎 + 𝑏 𝑋 + 𝜖 Y=a+bX+ϵ\n",
        "\n",
        "donde 𝑌 Y representa la variable dependiente, 𝑎 a es la intersección del eje 𝑌 Y, 𝑏 b es la pendiente de la línea de regresión, 𝑋 X es la variable independiente y 𝜖 ϵ es el término de error que captura las variaciones no explicadas por el modelo."
      ],
      "metadata": {
        "id": "h75ILzOhSBMw"
      }
    },
    {
      "cell_type": "markdown",
      "source": [
        "# Ecuacion"
      ],
      "metadata": {
        "id": "EdQueuWYYrC4"
      }
    },
    {
      "cell_type": "markdown",
      "source": [
        "##$y=mx+b$\n",
        "###Donde:\n",
        "####$y$ es la variable independiente o funcion\n",
        "####$m$ seria la pendiente de la recta\n",
        "####$x$ la variable dependiente o la que modifica la funcion\n",
        "####$b$ el termino independiente o el valor aarrojado de $y$ cuando $x=0$"
      ],
      "metadata": {
        "id": "-_d-JFhjoVCP"
      }
    },
    {
      "cell_type": "markdown",
      "source": [
        "#Aspectos Teoricos"
      ],
      "metadata": {
        "id": "CE5mE07FoAx8"
      }
    },
    {
      "cell_type": "markdown",
      "source": [
        "La regresión lineal es especialmente útil en contextos donde se requiere comprender cómo cambios en ciertas variables afectan a otras. En la economía de la construcción, por ejemplo, puede emplearse para estimar costos de proyectos en función de variables como el tamaño, la ubicación y los materiales utilizados. Esta técnica no solo facilita la predicción de costos, sino que también permite la identificación de factores que influyen en la rentabilidad y la eficiencia operativa.\n",
        "\n",
        "Al proporcionar un marco estructurado para el análisis de datos, la regresión lineal ayuda a los profesionales a hacer proyecciones y a desarrollar estrategias basadas en evidencia, lo que es crucial en un entorno tan dinámico y competitivo como el de la construcción."
      ],
      "metadata": {
        "id": "rL30ASauS0id"
      }
    },
    {
      "cell_type": "markdown",
      "source": [
        "#Codigo"
      ],
      "metadata": {
        "id": "5HIlnyfmNDUL"
      }
    },
    {
      "cell_type": "code",
      "source": [],
      "metadata": {
        "id": "15iuXl95XnRa"
      },
      "execution_count": null,
      "outputs": []
    },
    {
      "cell_type": "code",
      "source": [
        "# prompt: grafica los valores de x y y\n",
        "\n",
        "import matplotlib.pyplot as plt\n",
        "\n",
        "m = float(input(\"Ingrese la pendiente (m): \"))\n",
        "b = float(input(\"Ingrese el término independiente (b): \"))\n",
        "\n",
        "x_values = []\n",
        "y_values = []\n",
        "\n",
        "while True:\n",
        "  x = input(\"Ingrese el valor de x (o escriba 'salir' para terminar): \")\n",
        "  if str(x).lower() == 'salir':\n",
        "    break\n",
        "  x = float(x)\n",
        "  y = m * x + b\n",
        "  x_values.append(x)\n",
        "  y_values.append(y)\n",
        "  print(\"El valor de y es:\", y)\n",
        "\n",
        "# Crear la gráfica\n",
        "plt.plot(x_values, y_values, marker='o')\n",
        "plt.xlabel('x')\n",
        "plt.ylabel('y')\n",
        "plt.title('Gráfica de la Regresión Lineal')\n",
        "plt.grid(True)\n",
        "plt.show()\n"
      ],
      "metadata": {
        "colab": {
          "base_uri": "https://localhost:8080/",
          "height": 732
        },
        "id": "tSlf9Y-EXOCi",
        "outputId": "cffcac21-f0ca-4ca9-85ad-2b3b68992a32"
      },
      "execution_count": 3,
      "outputs": [
        {
          "name": "stdout",
          "output_type": "stream",
          "text": [
            "Ingrese la pendiente (m): 1.2\n",
            "Ingrese el término independiente (b): 0\n",
            "Ingrese el valor de x (o escriba 'salir' para terminar): 1\n",
            "El valor de y es: 1.2\n",
            "Ingrese el valor de x (o escriba 'salir' para terminar): 2\n",
            "El valor de y es: 2.4\n",
            "Ingrese el valor de x (o escriba 'salir' para terminar): 3\n",
            "El valor de y es: 3.5999999999999996\n",
            "Ingrese el valor de x (o escriba 'salir' para terminar): 4\n",
            "El valor de y es: 4.8\n",
            "Ingrese el valor de x (o escriba 'salir' para terminar): 6\n",
            "El valor de y es: 7.199999999999999\n",
            "Ingrese el valor de x (o escriba 'salir' para terminar): 7\n",
            "El valor de y es: 8.4\n",
            "Ingrese el valor de x (o escriba 'salir' para terminar): salir\n"
          ]
        },
        {
          "output_type": "display_data",
          "data": {
            "text/plain": [
              "<Figure size 640x480 with 1 Axes>"
            ],
            "image/png": "[encoded data removed]"
          },
          "metadata": {}
        }
      ]
    },
    {
      "cell_type": "markdown",
      "source": [
        "#Conclusion"
      ],
      "metadata": {
        "id": "9Jz7S4O2Mzix"
      }
    },
    {
      "cell_type": "markdown",
      "source": [
        "En resumen, la regresión lineal es una herramienta esencial que no solo permite analizar relaciones entre variables, sino que también proporciona una base sólida para la toma de decisiones estratégicas en múltiples sectores. A medida que el volumen y la complejidad de los datos continúan creciendo, el uso de técnicas de regresión lineal se vuelve cada vez más relevante para entender y modelar la realidad económica."
      ],
      "metadata": {
        "id": "ViYcrjWsTe_2"
      }
    }
  ]
}