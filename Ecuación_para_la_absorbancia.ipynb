{
  "nbformat": 4,
  "nbformat_minor": 0,
  "metadata": {
    "colab": {
      "provenance": [],
      "include_colab_link": true
    },
    "kernelspec": {
      "name": "python3",
      "display_name": "Python 3"
    },
    "language_info": {
      "name": "python"
    }
  },
  "cells": [
    {
      "cell_type": "markdown",
      "metadata": {
        "id": "view-in-github",
        "colab_type": "text"
      },
      "source": [
        "<a href=\"https://colab.research.google.com/github/Jorge-Urzola/Calculando-con-formulas/blob/Ley-de-absorbancia/Ecuaci%C3%B3n_para_la_absorbancia.ipynb\" target=\"_parent\"><img src=\"https://colab.research.google.com/assets/colab-badge.svg\" alt=\"Open In Colab\"/></a>"
      ]
    },
    {
      "cell_type": "markdown",
      "source": [
        "# Ecuación de Beer-Lambert para la absorbancia"
      ],
      "metadata": {
        "id": "Qy0nNB4MSnLy"
      }
    },
    {
      "cell_type": "markdown",
      "source": [],
      "metadata": {
        "id": "A3R3q-GrlY-G"
      }
    },
    {
      "cell_type": "markdown",
      "source": [
        "\n",
        "##Introducción\n",
        "La Ley de Beer-Lambert, fundamental en el campo de la espectroscopia, describe cómo la luz es absorbida por una sustancia. Esta ley establece una relación directa entre la concentración de una sustancia en solución y la cantidad de luz que absorbe a una longitud de onda específica.\n",
        "\n",
        "En esencia, la ley nos dice que:\n",
        "\n",
        "* Cuanto mayor sea la concentración de la sustancia absorbente, mayor\n",
        "será la cantidad de luz absorbida.\n",
        "\n",
        "* Cuanto más largo sea el camino que la luz recorre a través de la solución, mayor será la absorción de luz.\n",
        "\n",
        "##Realizado por\n",
        "\n",
        "* Jaime Sagra Lambraño\n",
        "\n",
        "* Esteban Álvarez Rodriguez\n",
        "\n",
        "* Osmar Gándara Vergara\n",
        "\n",
        "* Marcos Agámez Julio"
      ],
      "metadata": {
        "id": "IjbMi3COiueG"
      }
    },
    {
      "cell_type": "markdown",
      "source": [
        "# Ecuación"
      ],
      "metadata": {
        "id": "iFWQiPopic-Q"
      }
    },
    {
      "cell_type": "markdown",
      "source": [
        "## $A=\\lg(\\frac{I_0}{I})=ɛcl$\n",
        "\n",
        "Donde A es la absorbancia\n",
        "\n",
        "I_0 es la intensidad de la luz incidente\n",
        "\n",
        "I es la intensidad de la luz transmitida\n",
        "\n",
        "ɛ es el coeficiente de extincion molar\n",
        "\n",
        "C es la concentración de la sustancia en la solución\n",
        "\n",
        "l es la longitud del camino de la celda\n",
        "\n"
      ],
      "metadata": {
        "id": "nKW3O0p2jUuL"
      }
    },
    {
      "cell_type": "markdown",
      "source": [
        "#Aspectos teóricos\n"
      ],
      "metadata": {
        "id": "7PdQK5rWhjDd"
      }
    },
    {
      "cell_type": "markdown",
      "source": [
        "**Absorbancia (A):** Es una medida adimensional de la cantidad de luz absorbida por la muestra. Se define matemáticamente de dos formas equivalentes:\n",
        "\n",
        "**A = log (I₀/I):** El logaritmo de la relación entre la intensidad de luz incidente (I₀) y la intensidad de luz transmitida (I). El logaritmo refleja la naturaleza exponencial de la atenuación de la luz al atravesar la muestra.\n",
        "\n",
        "**A = εcl:** El producto de la absortividad molar (ε), la concentración (c) y la longitud del camino óptico (l).\n",
        "\n",
        "**Intensidad de luz incidente (I₀):** Es la intensidad de la luz que entra en la muestra.\n",
        "\n",
        "**Intensidad de luz transmitida (I):** Es la intensidad de la luz que sale de la muestra después de atravesarla.\n",
        "\n",
        "**Absortividad molar (ε):** Es una constante de proporcionalidad que depende de la naturaleza de la sustancia absorbente y de la longitud de onda de la luz. Representa la capacidad intrínseca de la sustancia para absorber luz a una longitud de onda específica.\n",
        "\n",
        "**Concentración (c):** Es la cantidad de sustancia absorbente presente en la solución, generalmente expresada en moles por litro (mol/L).\n",
        "\n",
        "**Longitud del camino óptico (l):** Es la distancia que la luz recorre a través de la muestra, generalmente determinada por el ancho de la celda o cubeta que contiene la solución.\n",
        "\n",
        "###¿Por qué dos ecuaciones?\n",
        "\n",
        "Ambas ecuaciones, **A = log (I₀/I)** y **A = εcl**, describen la misma relación fundamental entre la absorbancia, la concentración y la longitud del camino óptico. La elección de cuál usar depende de los datos disponibles y del enfoque experimental.\n",
        "\n",
        "**A = log (I₀/I)** es útil cuando se miden directamente las intensidades de luz incidente y transmitida, por ejemplo, en un espectrofotómetro.\n",
        "\n",
        "**A = εcl** es conveniente cuando se conoce la absortividad molar de la sustancia y se desea determinar su concentración a partir de la absorbancia medida."
      ],
      "metadata": {
        "id": "mWwTyholkJvw"
      }
    },
    {
      "cell_type": "markdown",
      "source": [
        "# Código (Python)"
      ],
      "metadata": {
        "id": "Gd8jPvbOlXjR"
      }
    },
    {
      "cell_type": "code",
      "source": [
        "import numpy as np\n",
        "\n",
        "def beer_lambert(ε, c, l):\n",
        "  \"\"\"Calcula la absorbancia usando la ley de Beer-Lambert.\n",
        "\n",
        "  Args:\n",
        "    ε: Absortividad molar (L mol⁻¹ cm⁻¹)\n",
        "    c: Concentración (mol L⁻¹)\n",
        "    l: Longitud del camino óptico (cm)\n",
        "\n",
        "  Returns:\n",
        "    Absorbancia (sin unidades)\n",
        "  \"\"\"\n",
        "  A = ε * c * l\n",
        "  return A\n",
        "\n",
        "# Ejemplo de uso\n",
        "ε = 8  # L mol⁻¹ cm⁻¹\n",
        "c = 10  # mol L⁻¹\n",
        "l = 5  # cm\n",
        "\n",
        "A = beer_lambert(ε, c, l)\n",
        "\n",
        "print(f\"La absorbancia es: {A}\")"
      ],
      "metadata": {
        "id": "mvHFALfBGmOV"
      },
      "execution_count": null,
      "outputs": []
    },
    {
      "cell_type": "code",
      "source": [
        "import numpy as np\n",
        "\n",
        "def beer_lambert_log(I_0, I):\n",
        "  \"\"\"Calcula la absorbancia usando la ley de Beer-Lambert con logaritmo.\n",
        "\n",
        "  Args:\n",
        "    I_0: Intensidad de la luz incidente\n",
        "    I: Intensidad de la luz transmitida\n",
        "\n",
        "  Returns:\n",
        "    Absorbancia (sin unidades)\n",
        "  \"\"\"\n",
        "  A = np.log10(I_0 / I)\n",
        "  return A\n",
        "\n",
        "# Ejemplo de uso\n",
        "I_0 = 100\n",
        "I = 2\n",
        "\n",
        "A = beer_lambert_log(I_0, I)\n",
        "\n",
        "print(f\"La absorbancia es: {A}\")"
      ],
      "metadata": {
        "id": "BfdRx3uLWVM6"
      },
      "execution_count": null,
      "outputs": []
    },
    {
      "cell_type": "markdown",
      "source": [
        "#Conclusión\n"
      ],
      "metadata": {
        "id": "Vl_zALtflrGW"
      }
    },
    {
      "cell_type": "markdown",
      "source": [
        "La ley de Beer-Lambert es un pilar fundamental en el análisis químico y en diversas disciplinas científicas debido a su simplicidad y eficacia. Su capacidad para relacionar la absorbancia de una solución con la concentración del soluto permite a los investigadores y técnicos llevar a cabo cuantificaciones precisas de compuestos en diversas matrices. Proporcionando un método directo para relacionar la absorbancia con la concentración de soluciones. Aunque tiene limitaciones, su aplicabilidad en diversas áreas la hace indispensable en el análisis químico."
      ],
      "metadata": {
        "id": "7wJZjHl6sYvW"
      }
    }
  ]
}