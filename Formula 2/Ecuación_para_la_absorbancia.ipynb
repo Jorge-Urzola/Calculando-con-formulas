{
  "nbformat": 4,
  "nbformat_minor": 0,
  "metadata": {
    "colab": {
      "provenance": [],
      "authorship_tag": "ABX9TyMnIN9KD0ykCDJvnbcNdrmx",
      "include_colab_link": true
    },
    "kernelspec": {
      "name": "python3",
      "display_name": "Python 3"
    },
    "language_info": {
      "name": "python"
    }
  },
  "cells": [
    {
      "cell_type": "markdown",
      "metadata": {
        "id": "view-in-github",
        "colab_type": "text"
      },
      "source": [
        "<a href=\"https://colab.research.google.com/github/Jorge-Urzola/Calculando-con-formulas/blob/Ley-de-absorbancia/Formula%202/Ecuaci%C3%B3n_para_la_absorbancia.ipynb\" target=\"_parent\"><img src=\"https://colab.research.google.com/assets/colab-badge.svg\" alt=\"Open In Colab\"/></a>"
      ]
    },
    {
      "cell_type": "code",
      "execution_count": null,
      "metadata": {
        "id": "WRgb1gCTJKRe"
      },
      "outputs": [],
      "source": []
    }
  ]
}